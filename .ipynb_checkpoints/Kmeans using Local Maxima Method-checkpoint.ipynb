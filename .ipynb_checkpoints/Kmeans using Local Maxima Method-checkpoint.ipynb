{
 "cells": [
  {
   "cell_type": "code",
   "execution_count": 1,
   "metadata": {},
   "outputs": [],
   "source": [
    "import numpy as np\n",
    "import pandas as pd\n",
    "from scipy.signal import argrelextrema"
   ]
  },
  {
   "cell_type": "code",
   "execution_count": 2,
   "metadata": {},
   "outputs": [],
   "source": [
    "import matplotlib.pyplot as plt\n",
    "%matplotlib inline \n",
    "import matplotlib.cm as cm"
   ]
  },
  {
   "cell_type": "code",
   "execution_count": 3,
   "metadata": {},
   "outputs": [],
   "source": [
    "input_data = pd.read_csv(\"./Mall_Customers.csv\")"
   ]
  },
  {
   "cell_type": "code",
   "execution_count": 4,
   "metadata": {},
   "outputs": [
    {
     "data": {
      "text/html": [
       "<div>\n",
       "<style scoped>\n",
       "    .dataframe tbody tr th:only-of-type {\n",
       "        vertical-align: middle;\n",
       "    }\n",
       "\n",
       "    .dataframe tbody tr th {\n",
       "        vertical-align: top;\n",
       "    }\n",
       "\n",
       "    .dataframe thead th {\n",
       "        text-align: right;\n",
       "    }\n",
       "</style>\n",
       "<table border=\"1\" class=\"dataframe\">\n",
       "  <thead>\n",
       "    <tr style=\"text-align: right;\">\n",
       "      <th></th>\n",
       "      <th>CustomerID</th>\n",
       "      <th>Gender</th>\n",
       "      <th>Age</th>\n",
       "      <th>Annual Income (k$)</th>\n",
       "      <th>Spending Score (1-100)</th>\n",
       "    </tr>\n",
       "  </thead>\n",
       "  <tbody>\n",
       "    <tr>\n",
       "      <th>0</th>\n",
       "      <td>1</td>\n",
       "      <td>Male</td>\n",
       "      <td>19</td>\n",
       "      <td>15</td>\n",
       "      <td>39</td>\n",
       "    </tr>\n",
       "    <tr>\n",
       "      <th>1</th>\n",
       "      <td>2</td>\n",
       "      <td>Male</td>\n",
       "      <td>21</td>\n",
       "      <td>15</td>\n",
       "      <td>81</td>\n",
       "    </tr>\n",
       "    <tr>\n",
       "      <th>2</th>\n",
       "      <td>3</td>\n",
       "      <td>Female</td>\n",
       "      <td>20</td>\n",
       "      <td>16</td>\n",
       "      <td>6</td>\n",
       "    </tr>\n",
       "    <tr>\n",
       "      <th>3</th>\n",
       "      <td>4</td>\n",
       "      <td>Female</td>\n",
       "      <td>23</td>\n",
       "      <td>16</td>\n",
       "      <td>77</td>\n",
       "    </tr>\n",
       "    <tr>\n",
       "      <th>4</th>\n",
       "      <td>5</td>\n",
       "      <td>Female</td>\n",
       "      <td>31</td>\n",
       "      <td>17</td>\n",
       "      <td>40</td>\n",
       "    </tr>\n",
       "  </tbody>\n",
       "</table>\n",
       "</div>"
      ],
      "text/plain": [
       "   CustomerID  Gender  Age  Annual Income (k$)  Spending Score (1-100)\n",
       "0           1    Male   19                  15                      39\n",
       "1           2    Male   21                  15                      81\n",
       "2           3  Female   20                  16                       6\n",
       "3           4  Female   23                  16                      77\n",
       "4           5  Female   31                  17                      40"
      ]
     },
     "execution_count": 4,
     "metadata": {},
     "output_type": "execute_result"
    }
   ],
   "source": [
    "input_data.head()"
   ]
  },
  {
   "cell_type": "code",
   "execution_count": 5,
   "metadata": {},
   "outputs": [],
   "source": [
    "x = input_data.iloc[:,[3,4]].values"
   ]
  },
  {
   "cell_type": "code",
   "execution_count": 6,
   "metadata": {},
   "outputs": [],
   "source": [
    "# print(x)"
   ]
  },
  {
   "cell_type": "markdown",
   "metadata": {},
   "source": [
    "## Feature 1"
   ]
  },
  {
   "cell_type": "code",
   "execution_count": 7,
   "metadata": {},
   "outputs": [
    {
     "data": {
      "image/png": "[encoded data removed]",
      "text/plain": [
       "<Figure size 432x288 with 1 Axes>"
      ]
     },
     "metadata": {
      "needs_background": "light"
     },
     "output_type": "display_data"
    }
   ],
   "source": [
    "plt.hist(x[:,0], bins = [0, 5,10,15, 20, 30, \n",
    "                    40, 50, 60, 70, \n",
    "                    80, 90, 100,110,120,130,140])  \n",
    "plt.title(\"Visual of Feature 1\")  \n",
    "  \n",
    "# show plot \n",
    "plt.show() "
   ]
  },
  {
   "cell_type": "code",
   "execution_count": 8,
   "metadata": {
    "scrolled": true
   },
   "outputs": [
    {
     "name": "stdout",
     "output_type": "stream",
     "text": [
      "freq : feature 1\n",
      "[24. 22. 28. 38. 30. 36.  8.  6.  4.  4.]\n",
      "ranges : feature 1 \n",
      "[ 15.   27.2  39.4  51.6  63.8  76.   88.2 100.4 112.6 124.8 137. ]\n"
     ]
    },
    {
     "data": {
      "image/png": "[encoded data removed]",
      "text/plain": [
       "<Figure size 432x288 with 1 Axes>"
      ]
     },
     "metadata": {
      "needs_background": "light"
     },
     "output_type": "display_data"
    }
   ],
   "source": [
    "data = x[:,0]\n",
    "counts, bins = np.histogram(data)\n",
    "y1 = plt.hist(bins[:-1], bins, weights=counts)\n",
    "plt.title(\"Histogram of Feature 1\") \n",
    "print(\"freq : feature 1\")\n",
    "print(y1[0])\n",
    "\n",
    "print(\"ranges : feature 1 \")\n",
    "print(y1[1])"
   ]
  },
  {
   "cell_type": "markdown",
   "metadata": {},
   "source": [
    "#### Maxima of feature 1"
   ]
  },
  {
   "cell_type": "code",
   "execution_count": 9,
   "metadata": {},
   "outputs": [
    {
     "name": "stdout",
     "output_type": "stream",
     "text": [
      "(array([3, 5], dtype=int64),)\n"
     ]
    }
   ],
   "source": [
    "array1 = np.array(y1[0])\n",
    "localMaximaArray = argrelextrema(array1, np.greater)\n",
    "print(localMaximaArray)"
   ]
  },
  {
   "cell_type": "code",
   "execution_count": 10,
   "metadata": {},
   "outputs": [
    {
     "name": "stdout",
     "output_type": "stream",
     "text": [
      "No of Maxima is \n",
      "2\n",
      "Final containing all local Maxima points\n",
      "[[(54, 47), (54, 54), (54, 53), (54, 48), (54, 52), (54, 42), (54, 51), (54, 55), (54, 41), (54, 44), (54, 57), (54, 46), (57, 58), (57, 55), (58, 60), (58, 46), (59, 55), (59, 41), (60, 49), (60, 40), (60, 42), (60, 52), (60, 47), (60, 50), (61, 42), (61, 49), (62, 41), (62, 48), (62, 59), (62, 55), (62, 56), (62, 42), (63, 50), (63, 46), (63, 43), (63, 48), (63, 52), (63, 54)], [(76, 40), (76, 87), (77, 12), (77, 97), (77, 36), (77, 74), (78, 22), (78, 90), (78, 17), (78, 88), (78, 20), (78, 76), (78, 16), (78, 89), (78, 1), (78, 78), (78, 1), (78, 73), (79, 35), (79, 83), (81, 5), (81, 93), (85, 26), (85, 75), (86, 20), (86, 95), (87, 27), (87, 63), (87, 13), (87, 75), (87, 10), (87, 92), (88, 13), (88, 86), (88, 15), (88, 69)]]\n"
     ]
    }
   ],
   "source": [
    "no_cat = len(localMaximaArray[0])\n",
    "print(\"No of Maxima is \")\n",
    "print(no_cat)\n",
    "# print(x[1][0])\n",
    "final_arr = []\n",
    "for i in localMaximaArray[0]:\n",
    "    l = y1[1][i]\n",
    "    r = y1[1][i+1]\n",
    "    col = []\n",
    "    for j in range(0,200):\n",
    "        fir = x[j][0]\n",
    "        sec = x[j][1]\n",
    "        if fir>=l and fir<=r:\n",
    "            col.append((fir,sec))\n",
    "    final_arr.append(col)\n",
    "print(\"Final containing all local Maxima points\")\n",
    "print(final_arr)\n",
    "    "
   ]
  },
  {
   "cell_type": "code",
   "execution_count": null,
   "metadata": {},
   "outputs": [],
   "source": []
  },
  {
   "cell_type": "markdown",
   "metadata": {},
   "source": [
    "## Feature 2"
   ]
  },
  {
   "cell_type": "code",
   "execution_count": 11,
   "metadata": {
    "scrolled": true
   },
   "outputs": [
    {
     "data": {
      "image/png": "[encoded data removed]",
      "text/plain": [
       "<Figure size 432x288 with 1 Axes>"
      ]
     },
     "metadata": {
      "needs_background": "light"
     },
     "output_type": "display_data"
    }
   ],
   "source": [
    "plt.hist(x[:,1], bins = [0, 10, 20, 30, \n",
    "                    40, 50, 60, 70, \n",
    "                    80, 90, 100,110,120,130,140])  \n",
    "  \n",
    "plt.title(\"Visual of Feature 2\") \n",
    "\n",
    "# show plot \n",
    "plt.show() "
   ]
  },
  {
   "cell_type": "code",
   "execution_count": 12,
   "metadata": {
    "scrolled": false
   },
   "outputs": [
    {
     "data": {
      "image/png": "[encoded data removed]",
      "text/plain": [
       "<Figure size 432x288 with 1 Axes>"
      ]
     },
     "metadata": {
      "needs_background": "light"
     },
     "output_type": "display_data"
    },
    {
     "name": "stdout",
     "output_type": "stream",
     "text": [
      "freq : feature 2\n",
      "[16. 20. 10. 17. 35. 37. 11. 24. 14. 16.]\n",
      "ranges : feature 2 \n",
      "[ 1.  10.8 20.6 30.4 40.2 50.  59.8 69.6 79.4 89.2 99. ]\n"
     ]
    }
   ],
   "source": [
    "nidata = x[:,1]\n",
    "counts, bins = np.histogram(nidata)\n",
    "y2 = plt.hist(bins[:-1], bins, weights=counts)\n",
    "plt.title(\"Histogram of Feature 1\") \n",
    "plt.show()\n",
    "print(\"freq : feature 2\")\n",
    "print(y2[0])\n",
    "\n",
    "print(\"ranges : feature 2 \")\n",
    "print(y2[1])"
   ]
  },
  {
   "cell_type": "code",
   "execution_count": 13,
   "metadata": {},
   "outputs": [
    {
     "name": "stdout",
     "output_type": "stream",
     "text": [
      "(array([1, 5, 7], dtype=int64),)\n"
     ]
    }
   ],
   "source": [
    "array2 = np.array(y2[0])\n",
    "localMaximaArray1 = argrelextrema(array2, np.greater)\n",
    "print(localMaximaArray1)"
   ]
  },
  {
   "cell_type": "code",
   "execution_count": 14,
   "metadata": {},
   "outputs": [
    {
     "name": "stdout",
     "output_type": "stream",
     "text": [
      "No of Maxima is \n",
      "3\n",
      "Final containing all local Maxima points\n",
      "[[(15, 39), (15, 81), (16, 6), (16, 77), (17, 40), (17, 76), (18, 6), (18, 94), (19, 3), (19, 72), (19, 14), (19, 99), (20, 15), (20, 77), (20, 13), (20, 79)], [(50, 49), (50, 56), (54, 47), (54, 54), (54, 53), (54, 48), (54, 52), (54, 42), (54, 51), (54, 55), (54, 41), (54, 44), (54, 57), (54, 46), (57, 58), (57, 55), (58, 60), (58, 46), (59, 55), (59, 41)], [(70, 29), (70, 77), (71, 35), (71, 95), (71, 11), (71, 75), (71, 9), (71, 75), (72, 34), (72, 71), (73, 5), (73, 88), (73, 7), (73, 73), (74, 10), (74, 72), (75, 5), (75, 93), (76, 40), (76, 87), (77, 12), (77, 97), (77, 36), (77, 74), (78, 22), (78, 90), (78, 17), (78, 88), (78, 20), (78, 76), (78, 16), (78, 89), (78, 1), (78, 78), (78, 1), (78, 73), (79, 35), (79, 83)]]\n"
     ]
    }
   ],
   "source": [
    "no_cat1 = len(localMaximaArray1[0])\n",
    "print(\"No of Maxima is \")\n",
    "print(no_cat1)\n",
    "final_arr2 = []\n",
    "for i in localMaximaArray1[0]:\n",
    "    l = y2[1][i]\n",
    "    r = y2[1][i+1]\n",
    "    col = []\n",
    "    for j in range(0,200):\n",
    "        fir = x[j][0]\n",
    "        sec = x[j][1]\n",
    "        if fir>=l and fir<=r:\n",
    "            col.append((fir,sec))\n",
    "    final_arr2.append(col)\n",
    "print(\"Final containing all local Maxima points\")\n",
    "# print(final_arr)\n",
    "print(final_arr2)\n",
    "    "
   ]
  },
  {
   "cell_type": "markdown",
   "metadata": {},
   "source": [
    "### Now cross multiplication amongst them"
   ]
  },
  {
   "cell_type": "code",
   "execution_count": 15,
   "metadata": {},
   "outputs": [],
   "source": [
    "new_dim = no_cat*no_cat1\n",
    "# two matrix final_arr & final_arr2\n",
    "afterCross = []\n",
    "for i in range(0,no_cat):\n",
    "    for j in range(0,no_cat1):\n",
    "        temp = []\n",
    "        [temp.append(x) for x in final_arr[i] if x not in final_arr2[j]]\n",
    "        [temp.append(x) for x in final_arr2[j] if x not in final_arr[i]]\n",
    "        afterCross.append(temp)   "
   ]
  },
  {
   "cell_type": "code",
   "execution_count": 18,
   "metadata": {},
   "outputs": [
    {
     "name": "stdout",
     "output_type": "stream",
     "text": [
      "[(54, 47), (54, 54), (54, 53), (54, 48), (54, 52), (54, 42), (54, 51), (54, 55), (54, 41), (54, 44), (54, 57), (54, 46), (57, 58), (57, 55), (58, 60), (58, 46), (59, 55), (59, 41), (60, 49), (60, 40), (60, 42), (60, 52), (60, 47), (60, 50), (61, 42), (61, 49), (62, 41), (62, 48), (62, 59), (62, 55), (62, 56), (62, 42), (63, 50), (63, 46), (63, 43), (63, 48), (63, 52), (63, 54), (15, 39), (15, 81), (16, 6), (16, 77), (17, 40), (17, 76), (18, 6), (18, 94), (19, 3), (19, 72), (19, 14), (19, 99), (20, 15), (20, 77), (20, 13), (20, 79)]\n",
      "[(60, 49), (60, 40), (60, 42), (60, 52), (60, 47), (60, 50), (61, 42), (61, 49), (62, 41), (62, 48), (62, 59), (62, 55), (62, 56), (62, 42), (63, 50), (63, 46), (63, 43), (63, 48), (63, 52), (63, 54), (50, 49), (50, 56)]\n",
      "[(54, 47), (54, 54), (54, 53), (54, 48), (54, 52), (54, 42), (54, 51), (54, 55), (54, 41), (54, 44), (54, 57), (54, 46), (57, 58), (57, 55), (58, 60), (58, 46), (59, 55), (59, 41), (60, 49), (60, 40), (60, 42), (60, 52), (60, 47), (60, 50), (61, 42), (61, 49), (62, 41), (62, 48), (62, 59), (62, 55), (62, 56), (62, 42), (63, 50), (63, 46), (63, 43), (63, 48), (63, 52), (63, 54), (70, 29), (70, 77), (71, 35), (71, 95), (71, 11), (71, 75), (71, 9), (71, 75), (72, 34), (72, 71), (73, 5), (73, 88), (73, 7), (73, 73), (74, 10), (74, 72), (75, 5), (75, 93), (76, 40), (76, 87), (77, 12), (77, 97), (77, 36), (77, 74), (78, 22), (78, 90), (78, 17), (78, 88), (78, 20), (78, 76), (78, 16), (78, 89), (78, 1), (78, 78), (78, 1), (78, 73), (79, 35), (79, 83)]\n",
      "[(76, 40), (76, 87), (77, 12), (77, 97), (77, 36), (77, 74), (78, 22), (78, 90), (78, 17), (78, 88), (78, 20), (78, 76), (78, 16), (78, 89), (78, 1), (78, 78), (78, 1), (78, 73), (79, 35), (79, 83), (81, 5), (81, 93), (85, 26), (85, 75), (86, 20), (86, 95), (87, 27), (87, 63), (87, 13), (87, 75), (87, 10), (87, 92), (88, 13), (88, 86), (88, 15), (88, 69), (15, 39), (15, 81), (16, 6), (16, 77), (17, 40), (17, 76), (18, 6), (18, 94), (19, 3), (19, 72), (19, 14), (19, 99), (20, 15), (20, 77), (20, 13), (20, 79)]\n",
      "[(76, 40), (76, 87), (77, 12), (77, 97), (77, 36), (77, 74), (78, 22), (78, 90), (78, 17), (78, 88), (78, 20), (78, 76), (78, 16), (78, 89), (78, 1), (78, 78), (78, 1), (78, 73), (79, 35), (79, 83), (81, 5), (81, 93), (85, 26), (85, 75), (86, 20), (86, 95), (87, 27), (87, 63), (87, 13), (87, 75), (87, 10), (87, 92), (88, 13), (88, 86), (88, 15), (88, 69), (50, 49), (50, 56), (54, 47), (54, 54), (54, 53), (54, 48), (54, 52), (54, 42), (54, 51), (54, 55), (54, 41), (54, 44), (54, 57), (54, 46), (57, 58), (57, 55), (58, 60), (58, 46), (59, 55), (59, 41)]\n",
      "[(81, 5), (81, 93), (85, 26), (85, 75), (86, 20), (86, 95), (87, 27), (87, 63), (87, 13), (87, 75), (87, 10), (87, 92), (88, 13), (88, 86), (88, 15), (88, 69), (70, 29), (70, 77), (71, 35), (71, 95), (71, 11), (71, 75), (71, 9), (71, 75), (72, 34), (72, 71), (73, 5), (73, 88), (73, 7), (73, 73), (74, 10), (74, 72), (75, 5), (75, 93)]\n"
     ]
    },
    {
     "data": {
      "image/png": "[encoded data removed]",
      "text/plain": [
       "<Figure size 720x216 with 6 Axes>"
      ]
     },
     "metadata": {
      "needs_background": "light"
     },
     "output_type": "display_data"
    }
   ],
   "source": [
    "f = plt.figure(figsize=(10,3))\n",
    "for iter in range(0,new_dim):\n",
    "    X=[]\n",
    "    Y=[]\n",
    "    for tm in afterCross[iter]:\n",
    "        X.append(tm[0])\n",
    "        Y.append(tm[1])\n",
    "    plt.subplot(no_cat,no_cat1,iter+1)\n",
    "    plt.plot(X,Y)\n",
    "    print(afterCross[iter])\n"
   ]
  },
  {
   "cell_type": "markdown",
   "metadata": {},
   "source": [
    "# These are the plots obtained after cross multiplication"
   ]
  },
  {
   "cell_type": "code",
   "execution_count": null,
   "metadata": {},
   "outputs": [],
   "source": []
  }
 ],
 "metadata": {
  "kernelspec": {
   "display_name": "Python 3",
   "language": "python",
   "name": "python3"
  },
  "language_info": {
   "codemirror_mode": {
    "name": "ipython",
    "version": 3
   },
   "file_extension": ".py",
   "mimetype": "text/x-python",
   "name": "python",
   "nbconvert_exporter": "python",
   "pygments_lexer": "ipython3",
   "version": "3.8.3"
  }
 },
 "nbformat": 4,
 "nbformat_minor": 4
}
